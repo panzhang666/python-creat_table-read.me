{
 "cells": [
  {
   "cell_type": "code",
   "execution_count": 1,
   "metadata": {},
   "outputs": [
    {
     "ename": "PermissionError",
     "evalue": "[Errno 13] Permission denied: '/home/oo7433/FIND/oo7433/NPDiscovery/MicroMGx/'",
     "output_type": "error",
     "traceback": [
      "\u001b[0;31m---------------------------------------------------------------------------\u001b[0m",
      "\u001b[0;31mPermissionError\u001b[0m                           Traceback (most recent call last)",
      "\u001b[0;32m<ipython-input-1-20fbea871586>\u001b[0m in \u001b[0;36m<module>\u001b[0;34m\u001b[0m\n\u001b[1;32m      1\u001b[0m \u001b[0;32mimport\u001b[0m \u001b[0mos\u001b[0m\u001b[0;34m\u001b[0m\u001b[0;34m\u001b[0m\u001b[0m\n\u001b[0;32m----> 2\u001b[0;31m \u001b[0mos\u001b[0m\u001b[0;34m.\u001b[0m\u001b[0mchdir\u001b[0m\u001b[0;34m(\u001b[0m\u001b[0;34m\"/home/oo7433/FIND/oo7433/NPDiscovery/MicroMGx/\"\u001b[0m\u001b[0;34m)\u001b[0m\u001b[0;34m\u001b[0m\u001b[0;34m\u001b[0m\u001b[0m\n\u001b[0m",
      "\u001b[0;31mPermissionError\u001b[0m: [Errno 13] Permission denied: '/home/oo7433/FIND/oo7433/NPDiscovery/MicroMGx/'"
     ]
    }
   ],
   "source": [
    "import os\n",
    "os.chdir(\"/home/oo7433/FIND/oo7433/NPDiscovery/MicroMGx/\")"
   ]
  },
  {
   "cell_type": "code",
   "execution_count": null,
   "metadata": {},
   "outputs": [],
   "source": [
    "with open('metabologenomics.txt', 'r') as f:\n",
    "    strains = f.read().strip().split('\\n')"
   ]
  },
  {
   "cell_type": "code",
   "execution_count": null,
   "metadata": {},
   "outputs": [],
   "source": [
    "import pandas as pd\n",
    "gcfs = pd.read_table(\"gcfs_data.txt\", sep = \"\\t\", index_col = 0)\n",
    "dict_gcf = dict(zip(gcfs.index.to_list(), gcfs['bgcs'].str.split().tolist()))\n",
    "import re\n",
    "dict_bgc = {}\n",
    "for gcf in dict_gcf.keys():\n",
    "    bgcs = list(filter(lambda x: any([re.match(strain, x) for strain in strains]), dict_gcf[gcf]))\n",
    "    if len(bgcs) > 0:\n",
    "        for bgc in bgcs:\n",
    "            if bgc in dict_bgc:\n",
    "                dict_bgc[bgc].append(gcf)\n",
    "            else:\n",
    "                dict_bgc[bgc] = [gcf]"
   ]
  },
  {
   "cell_type": "code",
   "execution_count": null,
   "metadata": {},
   "outputs": [],
   "source": [
    "import json\n",
    "with open('gcfs.json', 'w') as f:\n",
    "    json.dump(dict_gcf, f)"
   ]
  },
  {
   "cell_type": "code",
   "execution_count": 2,
   "metadata": {},
   "outputs": [],
   "source": [
    "antismash_dir = \"/home/oo7433/FIND/MicroMGx_Pilot/genomics/antismash_outputs/\"\n",
    "output_dir = \"bgc_table/\""
   ]
  },
  {
   "cell_type": "code",
   "execution_count": null,
   "metadata": {
    "scrolled": true
   },
   "outputs": [],
   "source": [
    "from bs4 import BeautifulSoup\n",
    "from pathlib import Path\n",
    "from glob import glob\n",
    "for strain in strains:\n",
    "    with open(antismash_dir + strain + \"/index.html\", 'r') as f:\n",
    "        html = f.read()\n",
    "    soup = BeautifulSoup(html, 'html.parser')\n",
    "    df = pd.DataFrame(columns = ['Region', 'Type', 'From', 'To', 'Contig Edge Warning', 'GenBank', 'ID', 'GCFs'])\n",
    "    count = 0\n",
    "    overview = soup.find('div', {'class': 'page', 'id': 'overview'})\n",
    "    for contig in overview.find_all('div', {'class': 'record-overview-details'}):\n",
    "        for region in contig.find('tbody').find_all('tr'):\n",
    "            info = region.find_all('td')\n",
    "            name = info[0].attrs['class'][-1]\n",
    "            Region = info[0].a.text.replace('&nbsp', ' ')\n",
    "            Type = info[0].attrs['class'][1].replace(',', ', ')\n",
    "            From = info[2].text\n",
    "            To = info[3].text\n",
    "            details = soup.find('div', {'class': 'page', 'id': name})\n",
    "            GenBank = details.find('div', {'class': 'region-download'}).a.attrs['href']\n",
    "            Warning = details.find('div', {'class': 'contig-edge-warning'})\n",
    "            Warning = Warning.text.strip('.') if Warning else ''\n",
    "            if not Path(antismash_dir + strain + '/' + GenBank).is_file():\n",
    "                print(f'{strain}: GenBank file {GenBank} cannot be found in the directory!')\n",
    "            count += 1\n",
    "            ID = strain + '_' + str(count)\n",
    "            GCFs = ', '.join(dict_bgc.get(ID, ''))\n",
    "            df.loc[name] = [Region, Type, From, To, Warning, GenBank, ID, GCFs]\n",
    "    gbkfiles = glob(antismash_dir + strain + '/*.gbk')\n",
    "    if count != (len(gbkfiles) - 1):\n",
    "        print(strain, ':', str(len(gbkfiles) - 1), \"GenBank files in the directory,\", count, \"GenBank files in the table.\")\n",
    "    df.to_csv(output_dir + strain + \"_bgc_table.csv\", index = False)"
   ]
  },
  {
   "cell_type": "code",
   "execution_count": null,
   "metadata": {},
   "outputs": [],
   "source": [
    "from ipywidgets import interact\n",
    "import pandas as pd\n",
    "@interact(strain = strains)\n",
    "def bgc_table(strain = 'DA936Z0011'):\n",
    "    df = pd.read_csv(output_dir + strain + \"_bgc_table.csv\", keep_default_na = False)\n",
    "    df = df.drop(['GenBank'], axis = 1)\n",
    "    df.index = range(1, df.shape[0] + 1)\n",
    "    styles = [\n",
    "        dict(selector = 'th', props = [('font-size', '110%'), ('text-align', 'center')]),\n",
    "        dict(selector = 'td', props = [('text-align', 'center')])\n",
    "    ]\n",
    "    return df.style\\\n",
    "        .apply(lambda x: ['color: red' if v else '' for v in x], subset = ['Contig Edge Warning'])\\\n",
    "        .set_properties(**{'font-size': '8pt'})\\\n",
    "        .set_table_styles(styles)"
   ]
  }
 ],
 "metadata": {
  "kernelspec": {
   "display_name": "Python 3",
   "language": "python",
   "name": "python3"
  },
  "language_info": {
   "codemirror_mode": {
    "name": "ipython",
    "version": 3
   },
   "file_extension": ".py",
   "mimetype": "text/x-python",
   "name": "python",
   "nbconvert_exporter": "python",
   "pygments_lexer": "ipython3",
   "version": "3.7.4"
  }
 },
 "nbformat": 4,
 "nbformat_minor": 4
}
