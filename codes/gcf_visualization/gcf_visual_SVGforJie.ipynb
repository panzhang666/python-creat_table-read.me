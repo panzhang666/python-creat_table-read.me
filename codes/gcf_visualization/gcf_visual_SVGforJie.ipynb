{
 "cells": [
  {
   "cell_type": "code",
   "execution_count": 2,
   "metadata": {},
   "outputs": [],
   "source": [
    "from IPython.core.display import SVG as SVG_show\n",
    "def cal_width(svgPaths, dict_gbk_gc, dict_propotion):\n",
    "    widths = []\n",
    "    dict_gbk2gc = dict(zip(dict_gbk_gc.values(), dict_gbk_gc.keys())) \n",
    "    for svgPath in svgPaths:\n",
    "        file_folder, fname = os.path.split(svgPath)\n",
    "        fname = fname.replace('svg', 'gbk')\n",
    "        prop = abs(dict_propotion[dict_gbk2gc[fname]])\n",
    "        wid = float(sg.fromfile(svgPath).get_size()[0])*(1+prop)\n",
    "        widths.append(wid)\n",
    "    max_wid = str(max(widths))\n",
    "    return(max_wid)\n"
   ]
  },
  {
   "cell_type": "code",
   "execution_count": 3,
   "metadata": {},
   "outputs": [],
   "source": [
    "def cat_svg(svg_paths, dict_gbk_gc, dict_propotion,dict_shifts,dict_total):\n",
    "    n_svg = len(svg_paths)\n",
    "    fig = sg.SVGFigure(cal_width(svgPaths,dict_gbk_gc,dict_propotion), str(100 *n_svg))\n",
    "    figFile = []\n",
    "    plot = []\n",
    "    txt = []\n",
    "    for i in range(n_svg):\n",
    "        label = listToString(get_key(dict_gbk_gc, os.path.split(svg_paths[i])[1].replace('svg', 'gbk')))\n",
    "        figFile.append(sg.fromfile(svg_paths[i]))\n",
    "        plot.append(figFile[i].getroot())\n",
    "        width = float(figFile[i].get_size()[0])\n",
    "        if min(list(dict_shifts.values()))<0:\n",
    "            if dict_propotion[label] == 0:\n",
    "                x_ref = abs(min(list(dict_shifts.values())))/dict_total[label]*width\n",
    "                plot[i].moveto(x_ref, 20+100*i, scale=1)\n",
    "            if dict_propotion[label] != 0:\n",
    "                x = x_ref + dict_shifts[label]/dict_total[label]*width\n",
    "                plot[i].moveto(x, 20+100*i, scale=1)\n",
    "        if min(list(dict_shifts.values())) == 0:\n",
    "            if dict_propotion[label] == 0:\n",
    "                plot[i].moveto(0, 20+100*i, scale=1)\n",
    "            else:\n",
    "                x = dict_propotion[label]*width\n",
    "                plot[i].moveto(x, 20+100*i, scale=1)\n",
    "        txt.append(sg.TextElement(0, 10 + 100*i, label, size=12, weight=\"bold\"))\n",
    "    fig.append(plot)\n",
    "    fig.append(txt)\n",
    "    finalSVG = os.path.join(os.path.split(svg_paths[0])[0],\"fig_final.svg\" )\n",
    "    fig.save(finalSVG)\n",
    "    return (finalSVG)    \n",
    "    "
   ]
  },
  {
   "cell_type": "code",
   "execution_count": 6,
   "metadata": {},
   "outputs": [
    {
     "ename": "NameError",
     "evalue": "name 'dict_gbk_gc' is not defined",
     "output_type": "error",
     "traceback": [
      "\u001b[0;31m---------------------------------------------------------------------------\u001b[0m",
      "\u001b[0;31mNameError\u001b[0m                                 Traceback (most recent call last)",
      "\u001b[0;32m<ipython-input-6-cc36e239284b>\u001b[0m in \u001b[0;36m<module>\u001b[0;34m\u001b[0m\n\u001b[1;32m      1\u001b[0m \u001b[0;31m#dict_gbk_gc\u001b[0m\u001b[0;34m\u001b[0m\u001b[0;34m\u001b[0m\u001b[0;34m\u001b[0m\u001b[0m\n\u001b[1;32m      2\u001b[0m \u001b[0;31m#svgPaths\u001b[0m\u001b[0;34m\u001b[0m\u001b[0;34m\u001b[0m\u001b[0;34m\u001b[0m\u001b[0m\n\u001b[0;32m----> 3\u001b[0;31m \u001b[0mlist\u001b[0m\u001b[0;34m(\u001b[0m\u001b[0mdict_gbk_gc\u001b[0m\u001b[0;34m.\u001b[0m\u001b[0mkeys\u001b[0m\u001b[0;34m(\u001b[0m\u001b[0;34m)\u001b[0m\u001b[0;34m)\u001b[0m\u001b[0;34m\u001b[0m\u001b[0;34m\u001b[0m\u001b[0m\n\u001b[0m\u001b[1;32m      4\u001b[0m \u001b[0mcoords_shifts\u001b[0m \u001b[0;34m=\u001b[0m \u001b[0;34m[\u001b[0m\u001b[0;36m0\u001b[0m\u001b[0;34m,\u001b[0m \u001b[0;36m8079\u001b[0m\u001b[0;34m,\u001b[0m \u001b[0;36m2698\u001b[0m\u001b[0;34m,\u001b[0m \u001b[0;36m2424\u001b[0m\u001b[0;34m]\u001b[0m\u001b[0;34m\u001b[0m\u001b[0;34m\u001b[0m\u001b[0m\n\u001b[1;32m      5\u001b[0m \u001b[0mdict_shifts\u001b[0m \u001b[0;34m=\u001b[0m \u001b[0mdict\u001b[0m\u001b[0;34m(\u001b[0m\u001b[0mzip\u001b[0m\u001b[0;34m(\u001b[0m\u001b[0mlist\u001b[0m\u001b[0;34m(\u001b[0m\u001b[0mdict_gbk_gc\u001b[0m\u001b[0;34m.\u001b[0m\u001b[0mkeys\u001b[0m\u001b[0;34m(\u001b[0m\u001b[0;34m)\u001b[0m\u001b[0;34m)\u001b[0m\u001b[0;34m,\u001b[0m \u001b[0mcoords_shifts\u001b[0m\u001b[0;34m)\u001b[0m\u001b[0;34m)\u001b[0m\u001b[0;34m\u001b[0m\u001b[0;34m\u001b[0m\u001b[0m\n",
      "\u001b[0;31mNameError\u001b[0m: name 'dict_gbk_gc' is not defined"
     ]
    }
   ],
   "source": [
    "dict_gbk_gc #is from function getGbkPath\n",
    "svgPaths #is from function gcf_visualize\n",
    "list(dict_gbk_gc.keys())\n",
    "coords_shifts = [0, 8079, 2698, 2424]\n",
    "dict_shifts = dict(zip(list(dict_gbk_gc.keys()), coords_shifts))\n",
    "dict_shifts\n",
    "dict_total= dict(zip(list(dict_gbk_gc.keys()), [60595,102023,58164,65530]))\n",
    "dict_propotion ={}\n",
    "for k in dict_gbk_gc.keys():\n",
    "    dict_propotion[k] = dict_shifts[k]/dict_total[k]\n",
    "dict_total   \n",
    "dict_propotion"
   ]
  },
  {
   "cell_type": "code",
   "execution_count": null,
   "metadata": {},
   "outputs": [],
   "source": [
    "#output for block 3\n",
    "{'DA976Z3332_32': 'c00058_NODE_58...region001.gbk',\n",
    " 'DA575A0001_17': 'c00004_NODE_4_...region002.gbk',\n",
    " 'DA918Z7165_25': 'c00045_NODE_45...region001.gbk',\n",
    " 'DA976Z0895_10': 'c00026_NODE_26...region001.gbk'}\n",
    "Out[253]:\n",
    "['/home/mlk442/FIND/mlk442/gcf_visulization/NRPS_263/SVG/c00058_NODE_58...region001.svg',\n",
    " '/home/mlk442/FIND/mlk442/gcf_visulization/NRPS_263/SVG/c00004_NODE_4_...region002.svg',\n",
    " '/home/mlk442/FIND/mlk442/gcf_visulization/NRPS_263/SVG/c00045_NODE_45...region001.svg',\n",
    " '/home/mlk442/FIND/mlk442/gcf_visulization/NRPS_263/SVG/c00026_NODE_26...region001.svg']\n",
    "Out[253]:\n",
    "['DA976Z3332_32', 'DA575A0001_17', 'DA918Z7165_25', 'DA976Z0895_10']\n",
    "Out[253]:\n",
    "{'DA976Z3332_32': 0,\n",
    " 'DA575A0001_17': 8079,\n",
    " 'DA918Z7165_25': 2698,\n",
    " 'DA976Z0895_10': 2424}\n",
    "Out[253]:\n",
    "{'DA976Z3332_32': 60595,\n",
    " 'DA575A0001_17': 102023,\n",
    " 'DA918Z7165_25': 58164,\n",
    " 'DA976Z0895_10': 65530}\n",
    "Out[253]:\n",
    "{'DA976Z3332_32': 0.0,\n",
    " 'DA575A0001_17': 0.07918802622937965,\n",
    " 'DA918Z7165_25': 0.04638608073722578,\n",
    " 'DA976Z0895_10': 0.036990691286433695}"
   ]
  },
  {
   "cell_type": "code",
   "execution_count": null,
   "metadata": {},
   "outputs": [],
   "source": [
    "finalSVG = cat_svg(svg_paths, dict_gbk_gc, dict_propotion,dict_shifts,dict_total)\n",
    "SVG_show(filename = finalSVG)"
   ]
  },
  {
   "cell_type": "code",
   "execution_count": null,
   "metadata": {},
   "outputs": [],
   "source": []
  }
 ],
 "metadata": {
  "kernelspec": {
   "display_name": "Python 3",
   "language": "python",
   "name": "python3"
  },
  "language_info": {
   "codemirror_mode": {
    "name": "ipython",
    "version": 3
   },
   "file_extension": ".py",
   "mimetype": "text/x-python",
   "name": "python",
   "nbconvert_exporter": "python",
   "pygments_lexer": "ipython3",
   "version": "3.7.4"
  }
 },
 "nbformat": 4,
 "nbformat_minor": 4
}
