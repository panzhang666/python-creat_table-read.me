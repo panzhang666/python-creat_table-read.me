{
 "cells": [
  {
   "cell_type": "code",
   "execution_count": 19,
   "metadata": {},
   "outputs": [],
   "source": [
    "import pandas as pd\n",
    "import os\n",
    "import re\n",
    "import numpy as np\n",
    "import string"
   ]
  },
  {
   "cell_type": "code",
   "execution_count": null,
   "metadata": {},
   "outputs": [],
   "source": []
  },
  {
   "cell_type": "code",
   "execution_count": null,
   "metadata": {},
   "outputs": [],
   "source": []
  },
  {
   "cell_type": "code",
   "execution_count": 13,
   "metadata": {},
   "outputs": [
    {
     "data": {
      "text/html": [
       "<div>\n",
       "<style scoped>\n",
       "    .dataframe tbody tr th:only-of-type {\n",
       "        vertical-align: middle;\n",
       "    }\n",
       "\n",
       "    .dataframe tbody tr th {\n",
       "        vertical-align: top;\n",
       "    }\n",
       "\n",
       "    .dataframe thead th {\n",
       "        text-align: right;\n",
       "    }\n",
       "</style>\n",
       "<table border=\"1\" class=\"dataframe\">\n",
       "  <thead>\n",
       "    <tr style=\"text-align: right;\">\n",
       "      <th></th>\n",
       "    </tr>\n",
       "    <tr>\n",
       "      <th>0</th>\n",
       "    </tr>\n",
       "  </thead>\n",
       "  <tbody>\n",
       "    <tr>\n",
       "      <th>DA004A0004</th>\n",
       "    </tr>\n",
       "    <tr>\n",
       "      <th>DA004E0001</th>\n",
       "    </tr>\n",
       "    <tr>\n",
       "      <th>DA007N0001</th>\n",
       "    </tr>\n",
       "    <tr>\n",
       "      <th>DA007R0002</th>\n",
       "    </tr>\n",
       "    <tr>\n",
       "      <th>DA008E0001</th>\n",
       "    </tr>\n",
       "    <tr>\n",
       "      <th>...</th>\n",
       "    </tr>\n",
       "    <tr>\n",
       "      <th>DA977Z1030</th>\n",
       "    </tr>\n",
       "    <tr>\n",
       "      <th>DA977Z1034</th>\n",
       "    </tr>\n",
       "    <tr>\n",
       "      <th>DA977Z1036</th>\n",
       "    </tr>\n",
       "    <tr>\n",
       "      <th>DB918A0003</th>\n",
       "    </tr>\n",
       "    <tr>\n",
       "      <th>DB918A1795</th>\n",
       "    </tr>\n",
       "  </tbody>\n",
       "</table>\n",
       "<p>250 rows × 0 columns</p>\n",
       "</div>"
      ],
      "text/plain": [
       "Empty DataFrame\n",
       "Columns: []\n",
       "Index: [DA004A0004, DA004E0001, DA007N0001, DA007R0002, DA008E0001, DA008K0001, DA011D0002, DA011F0003, DA011G0002, DA011H0003, DA011K0001, DA011Q0003, DA017B0001, DA017B0002, DA022B0004, DA022B0010, DA022B0016, DA022B0018, DA022B0024, DA530C0001, DA530C0004, DA530C0006, DA530C0018, DA530D0001, DA530D0005, DA530E0001, DA530G0026, DA530L0004, DA530O0001, DA530O0009, DA530P0002, DA530P0005, DA561A0323, DA561A0448, DA567A0001, DA570A0003, DA575A0001, DA575B0003, DA575B0004, DA903Z0002, DA903Z0040, DA917Z0001, DA918Z7154, DA918Z7165, DA918Z7166, DA918Z7167, DA918Z7168, DA918Z7170, DA918Z7177, DA918Z7221, DA936Z0011, DA936Z0013, DA936Z0014, DA936Z0066, DA936Z0131, DA936Z0146, DA936Z0148, DA967Z3203, DA976Z0845, DA976Z0852, DA976Z0853, DA976Z0857, DA976Z0863, DA976Z0865, DA976Z0869, DA976Z0873, DA976Z0874, DA976Z0879, DA976Z0880, DA976Z0883, DA976Z0885, DA976Z0888, DA976Z0892, DA976Z0893, DA976Z0895, DA976Z0897, DA976Z0936, DA976Z0947, DA976Z0949, DA976Z0950, DA976Z0951, DA976Z0955, DA976Z0957, DA976Z0960, DA976Z0961, DA976Z0964, DA976Z0975, DA976Z0980, DA976Z0982, DA976Z0983, DA976Z0987, DA976Z0988, DA976Z0990, DA976Z0992, DA976Z0993, DA976Z0994, DA976Z0996, DA976Z0999, DA976Z1403, DA976Z1404, ...]\n",
       "\n",
       "[250 rows x 0 columns]"
      ]
     },
     "execution_count": 13,
     "metadata": {},
     "output_type": "execute_result"
    }
   ],
   "source": [
    "strain_file = pd.read_table(\"strain.txt\", sep = \"\\t\", header =None, index_col=0)\n",
    "strain_file"
   ]
  },
  {
   "cell_type": "code",
   "execution_count": 16,
   "metadata": {},
   "outputs": [
    {
     "data": {
      "text/plain": [
       "250"
      ]
     },
     "execution_count": 16,
     "metadata": {},
     "output_type": "execute_result"
    }
   ],
   "source": [
    "strains = strain_file.index.values.tolist()\n",
    "len(strains)"
   ]
  },
  {
   "cell_type": "code",
   "execution_count": 23,
   "metadata": {},
   "outputs": [],
   "source": [
    "f = open(\"/home/mlk442/FIND/MicroMGx_Pilot/amplicons/477_rpob.fasta\")\n",
    "seq ={}\n",
    "for line in f:\n",
    "    if (re.match(\">\", line) != None):\n",
    "        name = line.replace(\">\", \"\").split()[0]\n",
    "        seq[name]=\"\"\n",
    "    else:\n",
    "        seq[name]+= line.replace(\"\\n\", \"\").strip()"
   ]
  },
  {
   "cell_type": "code",
   "execution_count": 29,
   "metadata": {},
   "outputs": [],
   "source": [
    "fa_out = open(\"strain.fasta\", \"w\")\n"
   ]
  },
  {
   "cell_type": "code",
   "execution_count": 30,
   "metadata": {},
   "outputs": [],
   "source": [
    "for i in seq.keys():\n",
    "    name=i.split(\"_\")[1]\n",
    "    if (name in strains):\n",
    "        fa_out.write(\">\"+i+\"\\n\")\n",
    "        if len(seq[i] > 80):\n",
    "            \n",
    "        \n",
    "    \n",
    "    "
   ]
  },
  {
   "cell_type": "code",
   "execution_count": 31,
   "metadata": {},
   "outputs": [
    {
     "data": {
      "text/plain": [
       "<_io.TextIOWrapper name='strain.fasta' mode='w' encoding='UTF-8'>"
      ]
     },
     "execution_count": 31,
     "metadata": {},
     "output_type": "execute_result"
    }
   ],
   "source": []
  },
  {
   "cell_type": "code",
   "execution_count": 27,
   "metadata": {},
   "outputs": [
    {
     "data": {
      "text/plain": [
       "False"
      ]
     },
     "execution_count": 27,
     "metadata": {},
     "output_type": "execute_result"
    }
   ],
   "source": [
    "\"DA976Z3970\" in strains"
   ]
  },
  {
   "cell_type": "code",
   "execution_count": 33,
   "metadata": {},
   "outputs": [
    {
     "data": {
      "text/plain": [
       "60"
      ]
     },
     "execution_count": 33,
     "metadata": {},
     "output_type": "execute_result"
    }
   ],
   "source": [
    "len(\"GGCCGGATCAACGCCTTCGGCTTCGTCGAGACGCCCTATCGCAAGGTCGTCGACGGCAAG\")"
   ]
  },
  {
   "cell_type": "code",
   "execution_count": 34,
   "metadata": {},
   "outputs": [],
   "source": [
    "st =  open(\"strain_musle_output.fasta\")"
   ]
  },
  {
   "cell_type": "code",
   "execution_count": 35,
   "metadata": {},
   "outputs": [
    {
     "data": {
      "text/plain": [
       "217"
      ]
     },
     "execution_count": 35,
     "metadata": {},
     "output_type": "execute_result"
    }
   ],
   "source": [
    "j=0\n",
    "for line in st:\n",
    "    if (re.match(\">\", line) != None):\n",
    "        j = j+1\n",
    "j"
   ]
  },
  {
   "cell_type": "code",
   "execution_count": null,
   "metadata": {},
   "outputs": [],
   "source": []
  }
 ],
 "metadata": {
  "kernelspec": {
   "display_name": "Python 2",
   "language": "python",
   "name": "python2"
  },
  "language_info": {
   "codemirror_mode": {
    "name": "ipython",
    "version": 2
   },
   "file_extension": ".py",
   "mimetype": "text/x-python",
   "name": "python",
   "nbconvert_exporter": "python",
   "pygments_lexer": "ipython2",
   "version": "2.7.17"
  }
 },
 "nbformat": 4,
 "nbformat_minor": 4
}
