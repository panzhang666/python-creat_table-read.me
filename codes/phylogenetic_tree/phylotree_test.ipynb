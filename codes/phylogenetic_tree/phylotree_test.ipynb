{
 "cells": [
  {
   "cell_type": "code",
   "execution_count": null,
   "metadata": {},
   "outputs": [],
   "source": [
    "nameFace = AttrFace(\"name\", fsize=12) #Set leaf node attribute\n",
    "\n",
    "def setup_heatmap(tree, tree_style, header, center_value=0.0, nameMap ={}, nameLabel = '',\n",
    "                  color_up=0.7, color_down=0.2, color_center=\"white\"):\n",
    "    DEFAULT_COLOR_SATURATION = 0.5\n",
    "    BASE_LIGHTNESS = 0.7\n",
    "\n",
    "    # Add heatmap colors to tree\n",
    "    cols_add_before_heat = 0\n",
    "    if nameMap:\n",
    "        cols_add_before_heat = 1\n",
    "\tfor lf in tree:\n",
    "\t\t\tlf.add_face(RectFace(20, 20, color, color), position=\"aligned\", \n",
    "\t\t\t\t\t\tcolumn=i+cols_add_before_heat)\n",
    "\t\t\t# Uncomment to add numeric values to the matrix\n",
    "\t\t\t#lf.add_face(TextFace(\"%0.2f \"%value, fsize=5), position=\"aligned\", column=i)\n",
    "\t\tlf.add_face(nameFace, column=i+cols_add_before_heat+1, position=\"aligned\")\n",
    "\t\t\n",
    "\tif nameMap and nameLabel:\n",
    "\t\tnameF = TextFace(nameLabel, fsize=7)\n",
    "\t\t#nameF.rotation = -90\n",
    "\t\ttree_style.aligned_header.add_face(nameF, column=0)\n",
    "\t# Add header \n",
    "\tfor i, name in enumerate(header):\n",
    "\t\tnameF = TextFace(name, fsize=7)\n",
    "\t\tnameF.rotation = -90\n",
    "\t\ttree_style.aligned_header.add_face(nameF, column=i+cols_add_before_heat)"
   ]
  },
  {
   "cell_type": "code",
   "execution_count": null,
   "metadata": {},
   "outputs": [],
   "source": []
  }
 ],
 "metadata": {
  "kernelspec": {
   "display_name": "Python 3",
   "language": "python",
   "name": "python3"
  },
  "language_info": {
   "codemirror_mode": {
    "name": "ipython",
    "version": 3
   },
   "file_extension": ".py",
   "mimetype": "text/x-python",
   "name": "python",
   "nbconvert_exporter": "python",
   "pygments_lexer": "ipython3",
   "version": "3.7.4"
  }
 },
 "nbformat": 4,
 "nbformat_minor": 4
}
